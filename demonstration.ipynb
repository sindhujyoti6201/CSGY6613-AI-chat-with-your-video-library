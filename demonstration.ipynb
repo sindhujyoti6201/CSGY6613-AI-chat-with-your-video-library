{
 "cells": [
  {
   "cell_type": "markdown",
   "id": "7af39f9c",
   "metadata": {},
   "source": [
    "Demonstartion Folder contains the following:  \n",
    "-- Results \n",
    "\n",
    "    -- What is Classification framework?\n",
    "    https://drive.google.com/file/d/1cEdXIhqnTuC19kz_RxrxweYv-oHK9xq0/view?usp=sharing\n",
    "\n",
    "    -- Using only the videos, explain how ResNets work.\n",
    "    https://drive.google.com/file/d/1St2dZm_HZYfDL2nnkHlGkSf_BeMRw6ij/view?usp=sharing\n",
    "\n",
    "    -- Using only the videos, explain the advantages of CNNs over fully connected networks.\n",
    "    https://drive.google.com/file/d/1RDV9AXong4cG2tWfXWHojavnX5KFNqxW/view?usp=sharing\n",
    "\n",
    "\n",
    "    -- Using only the videos, explain the the binary cross entropy loss function.\n",
    "    https://drive.google.com/file/d/1wsRNvdL8mX9M0mkr2ybysJXOQNwvld6y/view?usp=sharing\n",
    "\n",
    "    -- Some other Questions\n",
    "    https://drive.google.com/file/d/11WzTUb3YGSXpdvgyMN2JvhSUfm1_phTg/view?usp=sharing"
   ]
  }
 ],
 "metadata": {
  "language_info": {
   "name": "python"
  }
 },
 "nbformat": 4,
 "nbformat_minor": 5
}
