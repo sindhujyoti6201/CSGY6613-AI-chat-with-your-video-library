{
 "cells": [
  {
   "cell_type": "markdown",
   "id": "7af39f9c",
   "metadata": {},
   "source": [
    "Demonstartion Folder contains the following:\n",
    "\n",
    "-- Dockerization of the pipelines\n",
    "\n",
    "-- Results \n",
    "\n",
    "    -- What is Classification framework?\n",
    "    \n",
    "    https://drive.google.com/file/d/1cEdXIhqnTuC19kz_RxrxweYv-oHK9xq0/view?usp=sharing\n",
    "\n",
    "    "
   ]
  }
 ],
 "metadata": {
  "language_info": {
   "name": "python"
  }
 },
 "nbformat": 4,
 "nbformat_minor": 5
}
